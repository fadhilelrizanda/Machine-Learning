{
 "metadata": {
  "language_info": {
   "codemirror_mode": {
    "name": "ipython",
    "version": 3
   },
   "file_extension": ".py",
   "mimetype": "text/x-python",
   "name": "python",
   "nbconvert_exporter": "python",
   "pygments_lexer": "ipython3",
   "version": "3.7.9-final"
  },
  "orig_nbformat": 2,
  "kernelspec": {
   "name": "Python 3.7.9 64-bit",
   "display_name": "Python 3.7.9 64-bit",
   "metadata": {
    "interpreter": {
     "hash": "9fd7fa11b5a7fda2ead04902b924c45acf9863ebdbdbbc8b1441556086806ee1"
    }
   }
  }
 },
 "nbformat": 4,
 "nbformat_minor": 2,
 "cells": [
  {
   "cell_type": "code",
   "execution_count": 78,
   "metadata": {},
   "outputs": [],
   "source": [
    "import pandas as pd \n",
    "import numpy as np \n",
    "import matplotlib.pyplot as plt \n"
   ]
  },
  {
   "cell_type": "code",
   "execution_count": 79,
   "metadata": {},
   "outputs": [],
   "source": [
    "dataset = pd.read_csv('User_Data.csv') \n"
   ]
  },
  {
   "cell_type": "code",
   "execution_count": 80,
   "metadata": {},
   "outputs": [],
   "source": [
    "# input \n",
    "x = dataset.iloc[:, [2, 3]].values \n",
    "\n",
    "# output \n",
    "y = dataset.iloc[:, 4].values \n"
   ]
  },
  {
   "cell_type": "code",
   "execution_count": 81,
   "metadata": {},
   "outputs": [],
   "source": [
    "from sklearn.model_selection import train_test_split \n",
    "xtrain, xtest, ytrain, ytest = train_test_split( \n",
    "\t\tx, y, test_size = 0.25, random_state = 0) \n"
   ]
  },
  {
   "cell_type": "code",
   "execution_count": 82,
   "metadata": {},
   "outputs": [
    {
     "output_type": "stream",
     "name": "stdout",
     "text": [
      "[[ 0.58164944 -0.88670699]\n [-0.60673761  1.46173768]\n [-0.01254409 -0.5677824 ]\n [-0.60673761  1.89663484]\n [ 1.37390747 -1.40858358]\n [ 1.47293972  0.99784738]\n [ 0.08648817 -0.79972756]\n [-0.01254409 -0.24885782]\n [-0.21060859 -0.5677824 ]\n [-0.21060859 -0.19087153]]\n"
     ]
    }
   ],
   "source": [
    "from sklearn.preprocessing import StandardScaler \n",
    "sc_x = StandardScaler() \n",
    "xtrain = sc_x.fit_transform(xtrain) \n",
    "xtest = sc_x.transform(xtest) \n",
    "\n",
    "print (xtrain[0:10, :]) \n"
   ]
  },
  {
   "cell_type": "code",
   "execution_count": 83,
   "metadata": {},
   "outputs": [
    {
     "output_type": "execute_result",
     "data": {
      "text/plain": [
       "LogisticRegression(random_state=0)"
      ]
     },
     "metadata": {},
     "execution_count": 83
    }
   ],
   "source": [
    "from sklearn.linear_model import LogisticRegression \n",
    "classifier = LogisticRegression(random_state = 0) \n",
    "classifier.fit(xtrain, ytrain) \n"
   ]
  },
  {
   "cell_type": "code",
   "execution_count": 84,
   "metadata": {},
   "outputs": [],
   "source": [
    "y_pred = classifier.predict(xtest) \n"
   ]
  },
  {
   "cell_type": "code",
   "execution_count": null,
   "metadata": {},
   "outputs": [],
   "source": [
    "from sklearn.metrics import confusion_matrix \n",
    "cm = confusion_matrix(ytest, y_pred) \n",
    "\n",
    "print (\"Confusion Matrix : \\n\", cm) \n"
   ]
  },
  {
   "cell_type": "code",
   "execution_count": 85,
   "metadata": {},
   "outputs": [
    {
     "output_type": "stream",
     "name": "stdout",
     "text": [
      "Accuracy :  0.89\n"
     ]
    }
   ],
   "source": [
    "from sklearn.metrics import accuracy_score \n",
    "print (\"Accuracy : \", accuracy_score(ytest, y_pred)) \n"
   ]
  },
  {
   "cell_type": "code",
   "execution_count": null,
   "metadata": {},
   "outputs": [],
   "source": [
    "from matplotlib.colors import ListedColormap \n",
    "X_set, y_set = xtest, ytest \n",
    "X1, X2 = np.meshgrid(np.arange(start = X_set[:, 0].min() - 1, \n",
    "\t\t\t\t\t\t\tstop = X_set[:, 0].max() + 1, step = 0.01), \n",
    "\t\t\t\t\tnp.arange(start = X_set[:, 1].min() - 1, \n",
    "\t\t\t\t\t\t\tstop = X_set[:, 1].max() + 1, step = 0.01)) \n",
    "\n",
    "plt.contourf(X1, X2, classifier.predict( \n",
    "\t\t\tnp.array([X1.ravel(), X2.ravel()]).T).reshape( \n",
    "\t\t\tX1.shape), alpha = 0.75, cmap = ListedColormap(('red', 'green'))) \n",
    "\n",
    "plt.xlim(X1.min(), X1.max()) \n",
    "plt.ylim(X2.min(), X2.max()) \n",
    "\n",
    "for i, j in enumerate(np.unique(y_set)): \n",
    "\tplt.scatter(X_set[y_set == j, 0], X_set[y_set == j, 1], \n",
    "\t\t\t\tc = ListedColormap(('red', 'green'))(i), label = j) \n",
    "\t\n",
    "plt.title('Classifier (Test set)') \n",
    "plt.xlabel('Age') \n",
    "plt.ylabel('Estimated Salary') \n",
    "plt.legend() \n",
    "plt.show() \n"
   ]
  },
  {
   "cell_type": "code",
   "execution_count": null,
   "metadata": {},
   "outputs": [],
   "source": []
  }
 ]
}